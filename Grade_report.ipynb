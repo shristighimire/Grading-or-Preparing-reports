{
  "nbformat": 4,
  "nbformat_minor": 0,
  "metadata": {
    "colab": {
      "provenance": []
    },
    "kernelspec": {
      "name": "python3",
      "display_name": "Python 3"
    },
    "language_info": {
      "name": "python"
    }
  },
  "cells": [
    {
      "cell_type": "code",
      "source": [
        "Name = input(\"Enter Student's Full Name: \")\n",
        "testScores = input(\"Enter 5 Test Scores between 0 and 100 (Use comma to separate each score): \")\n",
        "testScores = [int(score) for score in testScores.split(\",\")]\n",
        "print(\"---------- GRADE REPORT ----------\")\n",
        "print(f\"You entered the following test scores: {testScores}\")\n",
        "highScore = max(testScores)\n",
        "lowScore = min(testScores)\n",
        "AvgScore = sum(testScores) / len(testScores)\n",
        "\n",
        "print(f\"Highest Score: {highScore}\")\n",
        "print(f\"Lowest Score: {lowScore}\")\n",
        "print(f\"Average Score: {AvgScore:.2f}\")\n"
      ],
      "metadata": {
        "colab": {
          "base_uri": "https://localhost:8080/"
        },
        "id": "-HfUMAFCiPuB",
        "outputId": "cfede2fb-e973-479b-bef9-7eeb22c7cd18"
      },
      "execution_count": null,
      "outputs": [
        {
          "output_type": "stream",
          "name": "stdout",
          "text": [
            "Enter Student's Full Name: shd\n",
            "Enter 5 Test Scores between 0 and 100 (Use comma to separate each score): 2,3,4,5,23\n",
            "---------- GRADE REPORT ----------\n",
            "You entered the following test scores: [2, 3, 4, 5, 23]\n",
            "Highest Score: 23\n",
            "Lowest Score: 2\n",
            "Average Score: 7.40\n"
          ]
        }
      ]
    },
    {
      "cell_type": "code",
      "source": [
        "if AvgScore >= 90:\n",
        "    grade = \"A\"\n",
        "elif AvgScore >= 80:\n",
        "    grade = \"B\"\n",
        "elif AvgScore >= 70:\n",
        "    grade = \"C\"\n",
        "elif AvgScore >= 60:\n",
        "    grade = \"D\"\n",
        "else:\n",
        "    grade = \"F\"\n",
        "print(f\"Grade: {grade}\")"
      ],
      "metadata": {
        "id": "iaR-70f_jYqU",
        "outputId": "f9d7a84a-cafa-4f3e-832a-dda50666cddf",
        "colab": {
          "base_uri": "https://localhost:8080/"
        }
      },
      "execution_count": null,
      "outputs": [
        {
          "output_type": "stream",
          "name": "stdout",
          "text": [
            "Grade: F\n"
          ]
        }
      ]
    }
  ]
}