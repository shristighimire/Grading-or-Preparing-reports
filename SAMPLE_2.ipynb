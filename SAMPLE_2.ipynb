{
  "nbformat": 4,
  "nbformat_minor": 0,
  "metadata": {
    "colab": {
      "provenance": []
    },
    "kernelspec": {
      "name": "python3",
      "display_name": "Python 3"
    },
    "language_info": {
      "name": "python"
    }
  },
  "cells": [
    {
      "cell_type": "code",
      "execution_count": null,
      "metadata": {
        "id": "7gqoQMFgd0CK",
        "colab": {
          "base_uri": "https://localhost:8080/",
          "height": 297
        },
        "outputId": "8a2491fc-9c3b-4afb-8186-e8e1066d12e9"
      },
      "outputs": [
        {
          "output_type": "stream",
          "name": "stdout",
          "text": [
            "Enter Student's Full Name: hf\n",
            "Enter 5 Test Scores between 0 and 100 (Use comma to seperate each score):2\n",
            "---------- GRADE REPORT ----------\n",
            "You entered the following test scores.\n",
            " ['2']\n"
          ]
        },
        {
          "output_type": "error",
          "ename": "TypeError",
          "evalue": "unsupported operand type(s) for +: 'int' and 'str'",
          "traceback": [
            "\u001b[0;31m---------------------------------------------------------------------------\u001b[0m",
            "\u001b[0;31mTypeError\u001b[0m                                 Traceback (most recent call last)",
            "\u001b[0;32m<ipython-input-4-539c99d2ba01>\u001b[0m in \u001b[0;36m<cell line: 9>\u001b[0;34m()\u001b[0m\n\u001b[1;32m      7\u001b[0m \u001b[0mhighScore\u001b[0m\u001b[0;34m=\u001b[0m \u001b[0mmax\u001b[0m\u001b[0;34m(\u001b[0m\u001b[0mtestScore\u001b[0m\u001b[0;34m)\u001b[0m\u001b[0;34m\u001b[0m\u001b[0;34m\u001b[0m\u001b[0m\n\u001b[1;32m      8\u001b[0m \u001b[0mlowScore\u001b[0m\u001b[0;34m=\u001b[0m \u001b[0mmin\u001b[0m\u001b[0;34m(\u001b[0m\u001b[0mtestScore\u001b[0m\u001b[0;34m)\u001b[0m\u001b[0;34m\u001b[0m\u001b[0;34m\u001b[0m\u001b[0m\n\u001b[0;32m----> 9\u001b[0;31m \u001b[0mAvgScore\u001b[0m\u001b[0;34m=\u001b[0m \u001b[0msum\u001b[0m\u001b[0;34m(\u001b[0m\u001b[0mtestScore\u001b[0m\u001b[0;34m)\u001b[0m\u001b[0;34m/\u001b[0m\u001b[0mlen\u001b[0m\u001b[0;34m(\u001b[0m\u001b[0mtestScore\u001b[0m\u001b[0;34m)\u001b[0m\u001b[0;34m\u001b[0m\u001b[0;34m\u001b[0m\u001b[0m\n\u001b[0m\u001b[1;32m     10\u001b[0m \u001b[0mprint\u001b[0m\u001b[0;34m(\u001b[0m\u001b[0;34m\"Highest Score: \"\u001b[0m\u001b[0;34m,\u001b[0m \u001b[0mhighScore\u001b[0m\u001b[0;34m)\u001b[0m\u001b[0;34m\u001b[0m\u001b[0;34m\u001b[0m\u001b[0m\n\u001b[1;32m     11\u001b[0m \u001b[0;31m#for score in range (1,6):\u001b[0m\u001b[0;34m\u001b[0m\u001b[0;34m\u001b[0m\u001b[0m\n",
            "\u001b[0;31mTypeError\u001b[0m: unsupported operand type(s) for +: 'int' and 'str'"
          ]
        }
      ],
      "source": [
        "Name=input(\"Enter Student's Full Name: \")\n",
        "testScore=[] #empty variable to store\n",
        "for i in range(1,6):\n",
        "  score=input(\"Enter 5 Test Scores between 0 and 100 (Use comma to seperate each score):\")\n",
        "  testScore.append(score)\n",
        "print(\"---------- GRADE REPORT ----------\")\n",
        "print(\"You entered the following test scores.\\n\",testScore)\n",
        "highScore= max(testScore)\n",
        "lowScore= min(testScore)\n",
        "AvgScore= sum(testScore)/len(testScore)\n",
        "print(\"Highest Score: \", highScore)\n",
        "#for score in range (1,6):\n",
        "    #while true:\n",
        "        #testScore=testScores\n",
        "    #if testScore=>90:\n",
        "        #testScore=A\n",
        "    #elif 80<= score=>90:\n",
        "        #testScore=B\n",
        "#highScore= max(testScore)\n",
        "#lowScore= min(testScore)\n",
        "#AvgScore= sum(testScore)/len(testScore)"
      ]
    }
  ]
}